{
 "cells": [
  {
   "cell_type": "code",
   "execution_count": 1,
   "id": "a0300e49-01d0-477c-b861-e927c879dc35",
   "metadata": {},
   "outputs": [
    {
     "name": "stdin",
     "output_type": "stream",
     "text": [
      "Enter your state of Origin:  Anambra\n"
     ]
    },
    {
     "name": "stdout",
     "output_type": "stream",
     "text": [
      "Your state of origin is:  Anambra\n",
      "The first character is:  A\n",
      "The characters starting from 3rd to 5th are:  amb\n",
      "The string starting from 3rd Character is:  ambra\n",
      "State of origin two times AnambraAnambra\n"
     ]
    }
   ],
   "source": [
    "str = input(\"Enter your state of Origin: \")\n",
    "\n",
    "print(\"Your state of origin is: \", str)\n",
    "print(\"The first character is: \", str[0])\n",
    "print(\"The characters starting from 3rd to 5th are: \", str[2:5])\n",
    "print(\"The string starting from 3rd Character is: \", str[2:])\n",
    "print(\"State of origin two times\", str * 2)"
   ]
  },
  {
   "cell_type": "code",
   "execution_count": null,
   "id": "699d547a-0d2b-48db-88f4-e39a12f60219",
   "metadata": {},
   "outputs": [],
   "source": []
  }
 ],
 "metadata": {
  "kernelspec": {
   "display_name": "Python 3 (ipykernel)",
   "language": "python",
   "name": "python3"
  },
  "language_info": {
   "codemirror_mode": {
    "name": "ipython",
    "version": 3
   },
   "file_extension": ".py",
   "mimetype": "text/x-python",
   "name": "python",
   "nbconvert_exporter": "python",
   "pygments_lexer": "ipython3",
   "version": "3.12.4"
  }
 },
 "nbformat": 4,
 "nbformat_minor": 5
}
